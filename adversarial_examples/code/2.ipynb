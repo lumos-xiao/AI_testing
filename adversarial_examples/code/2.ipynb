{
 "cells": [
  {
   "cell_type": "code",
   "execution_count": 2,
   "metadata": {},
   "outputs": [
    {
     "name": "stdout",
     "output_type": "stream",
     "text": [
      "batch=1 x=7 y=51\n",
      "batch=2 x=5.6 y=33.36\n",
      "batch=3 x=4.48 y=22.0704\n",
      "batch=4 x=3.584 y=14.845056\n",
      "batch=5 x=2.8672 y=10.22083584\n",
      "batch=6 x=2.29376 y=7.2613349376\n",
      "batch=7 x=1.835008 y=5.36725436006\n",
      "batch=8 x=1.4680064 y=4.15504279044\n",
      "batch=9 x=1.17440512 y=3.37922738588\n",
      "batch=10 x=0.939524096 y=2.88270552696\n",
      "batch=11 x=0.7516192768 y=2.56493153726\n",
      "batch=12 x=0.60129542144 y=2.36155618384\n",
      "batch=13 x=0.481036337152 y=2.23139595766\n",
      "batch=14 x=0.384829069722 y=2.1480934129\n",
      "batch=15 x=0.307863255777 y=2.09477978426\n",
      "batch=16 x=0.246290604622 y=2.06065906192\n",
      "batch=17 x=0.197032483697 y=2.03882179963\n",
      "batch=18 x=0.157625986958 y=2.02484595176\n",
      "batch=19 x=0.126100789566 y=2.01590140913\n",
      "batch=20 x=0.100880631653 y=2.01017690184\n",
      "batch=21 x=0.0807045053225 y=2.00651321718\n"
     ]
    }
   ],
   "source": [
    "def demo():\n",
    "    import random\n",
    "    a=0.1\n",
    "    x=random.randint(1,10)\n",
    "    y = x * x + 2\n",
    "    index=1\n",
    "    while index < 100 and abs(y-2) > 0.01 :\n",
    "        y=x*x+2\n",
    "        print \"batch={} x={} y={}\".format(index,x,y)\n",
    "        x=x-2*x*a\n",
    "        index+=1\n",
    "demo()"
   ]
  }
 ],
 "metadata": {
  "kernelspec": {
   "display_name": "Python 2",
   "language": "python",
   "name": "python2"
  },
  "language_info": {
   "codemirror_mode": {
    "name": "ipython",
    "version": 2
   },
   "file_extension": ".py",
   "mimetype": "text/x-python",
   "name": "python",
   "nbconvert_exporter": "python",
   "pygments_lexer": "ipython2",
   "version": "2.7.13"
  }
 },
 "nbformat": 4,
 "nbformat_minor": 2
}
