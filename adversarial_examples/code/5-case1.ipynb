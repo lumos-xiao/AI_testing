{
 "cells": [
  {
   "cell_type": "code",
   "execution_count": 1,
   "metadata": {},
   "outputs": [
    {
     "name": "stderr",
     "output_type": "stream",
     "text": [
      "Using TensorFlow backend.\n"
     ]
    },
    {
     "name": "stdout",
     "output_type": "stream",
     "text": [
      "_________________________________________________________________\n",
      "Layer (type)                 Output Shape              Param #   \n",
      "=================================================================\n",
      "dense_1 (Dense)              (None, 2)                 2002      \n",
      "=================================================================\n",
      "Total params: 2,002\n",
      "Trainable params: 2,002\n",
      "Non-trainable params: 0\n",
      "_________________________________________________________________\n"
     ]
    }
   ],
   "source": [
    "from sklearn import datasets\n",
    "from sklearn.preprocessing import MinMaxScaler\n",
    "import keras\n",
    "from keras import backend as K\n",
    "from keras.models import Sequential\n",
    "from keras.layers import Dense\n",
    "from keras.utils import to_categorical\n",
    "from keras.optimizers import RMSprop\n",
    "import numpy as np\n",
    "import matplotlib.pyplot as plt\n",
    "\n",
    "#特征数\n",
    "n_features=1000\n",
    "x,y=datasets.make_classification(n_samples=4000,n_features=n_features,n_classes=2,random_state=0)\n",
    "\n",
    "#转换成one hot编码\n",
    "y=to_categorical(y)\n",
    "#标准化到0-1之间\n",
    "x=MinMaxScaler().fit_transform(x) \n",
    "\n",
    "#分类模型是一个非常简单的多层感知机，输入层大小为1000，输出层为2，激活函数为softmax\n",
    "model = Sequential()\n",
    "model.add(Dense(2,activation='softmax',\n",
    "input_shape=(n_features,) ) )\n",
    "model.compile(loss='categorical_crossentropy',\n",
    "              optimizer=RMSprop(),\n",
    "              metrics=['accuracy'])\n",
    "\n",
    "model.summary()"
   ]
  },
  {
   "cell_type": "code",
   "execution_count": 2,
   "metadata": {},
   "outputs": [
    {
     "name": "stdout",
     "output_type": "stream",
     "text": [
      "Epoch 1/30\n",
      "4000/4000 [==============================] - 0s 108us/step - loss: 0.7373 - acc: 0.5085\n",
      "Epoch 2/30\n",
      "4000/4000 [==============================] - 0s 74us/step - loss: 0.6988 - acc: 0.5608\n",
      "Epoch 3/30\n",
      "4000/4000 [==============================] - 0s 71us/step - loss: 0.6684 - acc: 0.5995\n",
      "Epoch 4/30\n",
      "4000/4000 [==============================] - 0s 74us/step - loss: 0.6468 - acc: 0.6173\n",
      "Epoch 5/30\n",
      "4000/4000 [==============================] - 0s 71us/step - loss: 0.6184 - acc: 0.6558\n",
      "Epoch 6/30\n",
      "4000/4000 [==============================] - 0s 70us/step - loss: 0.6106 - acc: 0.6573\n",
      "Epoch 7/30\n",
      "4000/4000 [==============================] - 0s 71us/step - loss: 0.5781 - acc: 0.6993\n",
      "Epoch 8/30\n",
      "4000/4000 [==============================] - 0s 71us/step - loss: 0.5696 - acc: 0.7047\n",
      "Epoch 9/30\n",
      "4000/4000 [==============================] - 0s 71us/step - loss: 0.5539 - acc: 0.7235\n",
      "Epoch 10/30\n",
      "4000/4000 [==============================] - 0s 73us/step - loss: 0.5349 - acc: 0.7428\n",
      "Epoch 11/30\n",
      "4000/4000 [==============================] - 0s 72us/step - loss: 0.5227 - acc: 0.7533\n",
      "Epoch 12/30\n",
      "4000/4000 [==============================] - 0s 73us/step - loss: 0.5054 - acc: 0.7760\n",
      "Epoch 13/30\n",
      "4000/4000 [==============================] - 0s 80us/step - loss: 0.4970 - acc: 0.7863\n",
      "Epoch 14/30\n",
      "4000/4000 [==============================] - 0s 81us/step - loss: 0.4809 - acc: 0.7943\n",
      "Epoch 15/30\n",
      "4000/4000 [==============================] - 0s 78us/step - loss: 0.4743 - acc: 0.7997\n",
      "Epoch 16/30\n",
      "4000/4000 [==============================] - 0s 72us/step - loss: 0.4666 - acc: 0.8038\n",
      "Epoch 17/30\n",
      "4000/4000 [==============================] - 0s 77us/step - loss: 0.4568 - acc: 0.8075\n",
      "Epoch 18/30\n",
      "4000/4000 [==============================] - 0s 74us/step - loss: 0.4452 - acc: 0.8257\n",
      "Epoch 19/30\n",
      "4000/4000 [==============================] - 0s 72us/step - loss: 0.4355 - acc: 0.8293\n",
      "Epoch 20/30\n",
      "4000/4000 [==============================] - 0s 77us/step - loss: 0.4320 - acc: 0.8290\n",
      "Epoch 21/30\n",
      "4000/4000 [==============================] - 0s 80us/step - loss: 0.4245 - acc: 0.8290\n",
      "Epoch 22/30\n",
      "4000/4000 [==============================] - 0s 80us/step - loss: 0.4147 - acc: 0.8397\n",
      "Epoch 23/30\n",
      "4000/4000 [==============================] - 0s 73us/step - loss: 0.4101 - acc: 0.8423\n",
      "Epoch 24/30\n",
      "4000/4000 [==============================] - 0s 73us/step - loss: 0.4007 - acc: 0.8485\n",
      "Epoch 25/30\n",
      "4000/4000 [==============================] - 0s 71us/step - loss: 0.4018 - acc: 0.8465\n",
      "Epoch 26/30\n",
      "4000/4000 [==============================] - 0s 72us/step - loss: 0.3961 - acc: 0.8473\n",
      "Epoch 27/30\n",
      "4000/4000 [==============================] - 0s 74us/step - loss: 0.3882 - acc: 0.8572\n",
      "Epoch 28/30\n",
      "4000/4000 [==============================] - 0s 76us/step - loss: 0.3821 - acc: 0.8478\n",
      "Epoch 29/30\n",
      "4000/4000 [==============================] - 0s 75us/step - loss: 0.3756 - acc: 0.8605\n",
      "Epoch 30/30\n",
      "4000/4000 [==============================] - 0s 74us/step - loss: 0.3764 - acc: 0.8580\n"
     ]
    },
    {
     "data": {
      "text/plain": [
       "<keras.callbacks.History at 0x103a5cb00>"
      ]
     },
     "execution_count": 2,
     "metadata": {},
     "output_type": "execute_result"
    }
   ],
   "source": [
    "model.fit(x,y,epochs=30,batch_size=16)"
   ]
  },
  {
   "cell_type": "code",
   "execution_count": 3,
   "metadata": {},
   "outputs": [
    {
     "name": "stdout",
     "output_type": "stream",
     "text": [
      "[[0.6266942  0.37330577]]\n"
     ]
    },
    {
     "data": {
      "image/png": "[encoded data removed]",
      "text/plain": [
       "<Figure size 432x288 with 1 Axes>"
      ]
     },
     "metadata": {
      "needs_background": "light"
     },
     "output_type": "display_data"
    }
   ],
   "source": [
    "#获取第0号元素\n",
    "x0=x[0]\n",
    "y0=y[0]\n",
    "x0 = np.expand_dims(x0, axis=0)\n",
    "y0_predict = model.predict(x0)\n",
    "print(y0_predict)\n",
    "\n",
    "index=[0,1]\n",
    "labels=[\"lable 0\",\"lable 1\"]\n",
    "probability=y0_predict[0]\n",
    "\n",
    "fig = plt.figure()\n",
    "plt.bar(index,probability,0.4,color=\"gray\",edgecolor='black')\n",
    "plt.xlabel(\"label\")\n",
    "plt.ylabel(\"probability\")\n",
    "plt.xticks(index, labels)\n",
    "\n",
    "plt.show()  "
   ]
  },
  {
   "cell_type": "code",
   "execution_count": 4,
   "metadata": {},
   "outputs": [
    {
     "name": "stdout",
     "output_type": "stream",
     "text": [
      "[[0.36320868 0.6367913 ]]\n"
     ]
    },
    {
     "data": {
      "image/png": "[encoded data removed]",
      "text/plain": [
       "<Figure size 432x288 with 1 Axes>"
      ]
     },
     "metadata": {
      "needs_background": "light"
     },
     "output_type": "display_data"
    }
   ],
   "source": [
    "#目标是伪装成标签1\n",
    "object_type_to_fake=1\n",
    "model_output_layer=model.output\n",
    "model_input_layer=model.input\n",
    "cost_function=model_output_layer[0, object_type_to_fake]\n",
    "gradient_function = K.gradients(cost_function, model_input_layer)[0]\n",
    "grab_cost_and_gradients_from_model=K.function([model_input_layer,K.learning_phase()], [cost_function, gradient_function] )\n",
    "\n",
    "e = 0.01\n",
    "cost, gradients = grab_cost_and_gradients_from_model([x0, 0])\n",
    "n = np.sign(gradients)\n",
    "x0 += n * e\n",
    "#print(x0)\n",
    "y0_predict = model.predict(x0)\n",
    "print(y0_predict)\n",
    "\n",
    "index=[0,1]\n",
    "labels=[\"lable 0\",\"lable 1\"]\n",
    "probability=y0_predict[0]\n",
    "\n",
    "fig = plt.figure()\n",
    "plt.bar(index,probability,0.4,color=\"gray\",edgecolor='black')\n",
    "plt.xlabel(\"label\")\n",
    "plt.ylabel(\"probability\")\n",
    "plt.xticks(index, labels)\n",
    "\n",
    "plt.show() "
   ]
  },
  {
   "cell_type": "code",
   "execution_count": null,
   "metadata": {},
   "outputs": [],
   "source": []
  },
  {
   "cell_type": "code",
   "execution_count": null,
   "metadata": {},
   "outputs": [],
   "source": []
  }
 ],
 "metadata": {
  "kernelspec": {
   "display_name": "Python 3",
   "language": "python",
   "name": "python3"
  },
  "language_info": {
   "codemirror_mode": {
    "name": "ipython",
    "version": 3
   },
   "file_extension": ".py",
   "mimetype": "text/x-python",
   "name": "python",
   "nbconvert_exporter": "python",
   "pygments_lexer": "ipython3",
   "version": "3.6.2"
  }
 },
 "nbformat": 4,
 "nbformat_minor": 2
}
