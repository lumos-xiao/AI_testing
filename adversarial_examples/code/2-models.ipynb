{
 "cells": [
  {
   "cell_type": "code",
   "execution_count": 1,
   "metadata": {},
   "outputs": [
    {
     "data": {
      "image/jpeg": "[encoded data removed]",
      "text/plain": [
       "<IPython.core.display.Image object>"
      ]
     },
     "metadata": {},
     "output_type": "display_data"
    }
   ],
   "source": [
    "from IPython.display import Image,display\n",
    "path = \"../picture/pig.jpg\"\n",
    "display(Image(filename=path))"
   ]
  },
  {
   "cell_type": "code",
   "execution_count": 2,
   "metadata": {},
   "outputs": [
    {
     "name": "stderr",
     "output_type": "stream",
     "text": [
      "Using TensorFlow backend.\n"
     ]
    },
    {
     "name": "stdout",
     "output_type": "stream",
     "text": [
      "Predicted: [('n02395406', 'hog', 0.98398596), ('n02396427', 'wild_boar', 0.0074134255), ('n03935335', 'piggy_bank', 0.006954492)]\n"
     ]
    }
   ],
   "source": [
    "from keras.applications.resnet50 import ResNet50\n",
    "from keras.preprocessing import image\n",
    "from keras.applications.resnet50 import preprocess_input, decode_predictions\n",
    "import numpy as np\n",
    "\n",
    "model = ResNet50(weights='imagenet')\n",
    "\n",
    "img_path = path\n",
    "img = image.load_img(img_path, target_size=(224, 224))\n",
    "x = image.img_to_array(img)\n",
    "x = np.expand_dims(x, axis=0)\n",
    "x = preprocess_input(x)\n",
    "\n",
    "preds = model.predict(x)\n",
    "\n",
    "print('Predicted:', decode_predictions(preds, top=3)[0])"
   ]
  },
  {
   "cell_type": "code",
   "execution_count": 3,
   "metadata": {},
   "outputs": [
    {
     "name": "stdout",
     "output_type": "stream",
     "text": [
      "label=341\n"
     ]
    }
   ],
   "source": [
    "import os\n",
    "import numpy as np\n",
    "import torch\n",
    "import torch.nn\n",
    "import torchvision.models as models\n",
    "from torch.autograd import Variable \n",
    "import torch.cuda\n",
    "import torchvision.transforms as transforms\n",
    "from PIL import Image\n",
    "\n",
    "resnet50=models.resnet50(pretrained=True).eval()\n",
    "\n",
    "img=Image.open(path)\n",
    "img=img.resize((224,224))\n",
    "img = np.array(img).copy().astype(np.float32)\n",
    "\n",
    "mean = [0.485, 0.456, 0.406]\n",
    "std = [0.229, 0.224, 0.225]\n",
    "img /= 255.0\n",
    "img = (img - mean) / std\n",
    "img = img.transpose(2, 0, 1)\n",
    "\n",
    "img=np.expand_dims(img, axis=0)\n",
    "img = Variable(torch.from_numpy(img).float())\n",
    "\n",
    "label=np.argmax(resnet50(img).data.cpu().numpy())\n",
    "print(\"label={}\".format(label))"
   ]
  },
  {
   "cell_type": "code",
   "execution_count": 4,
   "metadata": {},
   "outputs": [
    {
     "name": "stdout",
     "output_type": "stream",
     "text": [
      "Predicted: [('n02395406', 'hog', 15.661886), ('n02396427', 'wild_boar', 10.353137), ('n03935335', 'piggy_bank', 10.098382)]\n"
     ]
    }
   ],
   "source": [
    "print('Predicted:', decode_predictions(resnet50(img).data.cpu().numpy(), top=3)[0])"
   ]
  },
  {
   "cell_type": "code",
   "execution_count": 5,
   "metadata": {},
   "outputs": [
    {
     "name": "stdout",
     "output_type": "stream",
     "text": [
      "341\n"
     ]
    }
   ],
   "source": [
    "from mxnet import gluon\n",
    "import mxnet as mx\n",
    "from mxnet.gluon import nn\n",
    "from mxnet import ndarray as nd\n",
    "from mxnet import autograd\n",
    "import numpy as np\n",
    "\n",
    "resnet=mx.gluon.model_zoo.vision.resnet50_v2(pretrained=True)\n",
    "\n",
    "img=Image.open(path)\n",
    "img=img.resize((224,224))\n",
    "img = np.array(img).copy().astype(np.float32)\n",
    "\n",
    "mean = [0.485, 0.456, 0.406]\n",
    "std = [0.229, 0.224, 0.225]\n",
    "img /= 255.0\n",
    "img = (img - mean) / std\n",
    "img = img.transpose(2, 0, 1)\n",
    "\n",
    "img=np.expand_dims(img, axis=0)\n",
    "array = mx.nd.array(img)\n",
    "\n",
    "outputs=resnet(array).asnumpy()\n",
    "label = np.argmax(outputs)\n",
    "print(label)\n"
   ]
  },
  {
   "cell_type": "code",
   "execution_count": 8,
   "metadata": {},
   "outputs": [
    {
     "name": "stdout",
     "output_type": "stream",
     "text": [
      "hog, pig, grunter, squealer, Sus scrofa (score = 10.06510)\n",
      "piggy bank, penny bank (score = 6.92089)\n",
      "wild boar, boar, Sus scrofa (score = 5.47446)\n"
     ]
    }
   ],
   "source": [
    "import tensorflow as tf\n",
    "import numpy as np\n",
    "import re\n",
    "from PIL import Image\n",
    "\n",
    "class NodeLookup(object):\n",
    "  \"\"\"Converts integer node ID's to human readable labels.\"\"\"\n",
    "\n",
    "  def __init__(self,\n",
    "               label_lookup_path=None,\n",
    "               uid_lookup_path=None):\n",
    "    self.node_lookup = self.load(label_lookup_path, uid_lookup_path)\n",
    "\n",
    "  def load(self, label_lookup_path, uid_lookup_path):\n",
    "    \"\"\"Loads a human readable English name for each softmax node.\n",
    "    Args:\n",
    "      label_lookup_path: string UID to integer node ID.\n",
    "      uid_lookup_path: string UID to human-readable string.\n",
    "    Returns:\n",
    "      dict from integer node ID to human-readable string.\n",
    "    \"\"\"\n",
    "    if not tf.gfile.Exists(uid_lookup_path):\n",
    "      tf.logging.fatal('File does not exist %s', uid_lookup_path)\n",
    "    if not tf.gfile.Exists(label_lookup_path):\n",
    "      tf.logging.fatal('File does not exist %s', label_lookup_path)\n",
    "\n",
    "    # Loads mapping from string UID to human-readable string\n",
    "    proto_as_ascii_lines = tf.gfile.GFile(uid_lookup_path).readlines()\n",
    "    uid_to_human = {}\n",
    "    p = re.compile(r'[n\\d]*[ \\S,]*')\n",
    "    for line in proto_as_ascii_lines:\n",
    "      parsed_items = p.findall(line)\n",
    "      uid = parsed_items[0]\n",
    "      human_string = parsed_items[2]\n",
    "      uid_to_human[uid] = human_string\n",
    "\n",
    "    # Loads mapping from string UID to integer node ID.\n",
    "    node_id_to_uid = {}\n",
    "    proto_as_ascii = tf.gfile.GFile(label_lookup_path).readlines()\n",
    "    for line in proto_as_ascii:\n",
    "      if line.startswith('  target_class:'):\n",
    "        target_class = int(line.split(': ')[1])\n",
    "      if line.startswith('  target_class_string:'):\n",
    "        target_class_string = line.split(': ')[1]\n",
    "        node_id_to_uid[target_class] = target_class_string[1:-2]\n",
    "\n",
    "    # Loads the final mapping of integer node ID to human-readable string\n",
    "    node_id_to_name = {}\n",
    "    for key, val in node_id_to_uid.items():\n",
    "      if val not in uid_to_human:\n",
    "        tf.logging.fatal('Failed to locate: %s', val)\n",
    "      name = uid_to_human[val]\n",
    "      node_id_to_name[key] = name\n",
    "\n",
    "    return node_id_to_name\n",
    "\n",
    "  def id_to_string(self, node_id):\n",
    "    if node_id not in self.node_lookup:\n",
    "      return ''\n",
    "    return self.node_lookup[node_id]\n",
    "\n",
    "\n",
    "path = \"../picture/pig.jpg\"\n",
    "image_data = tf.gfile.FastGFile(path, \"rb\").read()\n",
    "\n",
    "session=tf.Session()\n",
    "\n",
    "def create_graph(dirname):\n",
    "    with tf.gfile.FastGFile(dirname, 'rb') as f:\n",
    "        graph_def = session.graph_def\n",
    "        graph_def.ParseFromString(f.read())\n",
    "        _ = tf.import_graph_def(graph_def, name='')\n",
    "\n",
    "create_graph(\"models/classify_image_graph_def.pb\")\n",
    "session.run(tf.global_variables_initializer())\n",
    "\n",
    "#tensorlist=[n.name for n in session.graph_def.node]\n",
    "\n",
    "#print(tensorlist)\n",
    "\n",
    "logits=session.graph.get_tensor_by_name('softmax/logits:0')\n",
    "x = session.graph.get_tensor_by_name('DecodeJpeg/contents:0')\n",
    "\n",
    "predictions=session.run(logits,feed_dict={x:image_data})\n",
    "predictions = np.squeeze(predictions)\n",
    "\n",
    "node_lookup = NodeLookup(label_lookup_path=\"models/imagenet_2012_challenge_label_map_proto.pbtxt\",\n",
    "                        uid_lookup_path=\"models/imagenet_synset_to_human_label_map.txt\")\n",
    "\n",
    "top_k = predictions.argsort()[-3:][::-1]\n",
    "for node_id in top_k:\n",
    "      human_string = node_lookup.id_to_string(node_id)\n",
    "      score = predictions[node_id]\n",
    "      print('%s (score = %.5f)' % (human_string, score))"
   ]
  },
  {
   "cell_type": "code",
   "execution_count": 87,
   "metadata": {},
   "outputs": [
    {
     "name": "stdout",
     "output_type": "stream",
     "text": [
      "INFO:tensorflow:Restoring parameters from models/resnet_v2_50/resnet_v2_50.ckpt\n",
      "Probability 99.08% => [hog, pig, grunter, squealer, Sus scrofa]\n",
      "Probability 0.84% => [piggy bank, penny bank]\n",
      "Probability 0.03% => [wild boar, boar, Sus scrofa]\n",
      "Probability 0.01% => [French bulldog]\n",
      "Probability 0.01% => [hippopotamus, hippo, river horse, Hippopotamus amphibius]\n"
     ]
    }
   ],
   "source": [
    "import tensorflow as tf\n",
    "import numpy as np\n",
    "import sys\n",
    "from PIL import Image\n",
    "sys.path.append(\"models/models/research/\")\n",
    "sys.path.append(\"models/models/research/slim/\")\n",
    "from nets import resnet_v2\n",
    "import slim.preprocessing.inception_preprocessing \n",
    "from datasets import imagenet\n",
    "from tensorflow.contrib import slim\n",
    "\n",
    "with tf.Graph().as_default():\n",
    "    path = \"../picture/pig.jpg\"\n",
    "    image = tf.image.decode_jpeg(tf.gfile.FastGFile(path,'rb').read(), channels=3)\n",
    "    image_size = resnet_v2_50.default_image_size \n",
    "    processed_image = inception_preprocessing.preprocess_image(image, image_size, image_size, is_training=False)\n",
    "    processed_images  = tf.expand_dims(processed_image, 0)\n",
    "    \n",
    "    with slim.arg_scope(resnet_v2.resnet_arg_scope()):\n",
    "        logits, _ = resnet_v2.resnet_v2_50(processed_images, num_classes=1001, is_training=False)\n",
    "    probabilities = tf.nn.softmax(logits)\n",
    "      \n",
    "    saver=tf.train.Saver()\n",
    "    \n",
    "    with tf.Session() as sess:\n",
    "        saver.restore(sess,'models/resnet_v2_50/resnet_v2_50.ckpt')\n",
    "        np_image, probabilities = sess.run([image, probabilities])\n",
    "        probabilities = probabilities[0, 0:]\n",
    "        sorted_inds = [i[0] for i in sorted(enumerate(-probabilities), key=lambda x:x[1])]\n",
    "        \n",
    "\n",
    "    names = imagenet.create_readable_names_for_imagenet_labels()\n",
    "    for i in range(5):\n",
    "        index = sorted_inds[i]\n",
    "        print('Probability %0.2f%% => [%s]' % (probabilities[index] * 100, names[index]))"
   ]
  },
  {
   "cell_type": "code",
   "execution_count": null,
   "metadata": {},
   "outputs": [],
   "source": []
  }
 ],
 "metadata": {
  "kernelspec": {
   "display_name": "Python 3",
   "language": "python",
   "name": "python3"
  },
  "language_info": {
   "codemirror_mode": {
    "name": "ipython",
    "version": 3
   },
   "file_extension": ".py",
   "mimetype": "text/x-python",
   "name": "python",
   "nbconvert_exporter": "python",
   "pygments_lexer": "ipython3",
   "version": "3.6.2"
  }
 },
 "nbformat": 4,
 "nbformat_minor": 2
}
