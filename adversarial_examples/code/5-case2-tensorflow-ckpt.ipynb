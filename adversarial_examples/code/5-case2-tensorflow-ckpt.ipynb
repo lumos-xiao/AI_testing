{
 "cells": [
  {
   "cell_type": "code",
   "execution_count": 1,
   "metadata": {},
   "outputs": [],
   "source": [
    "import tensorflow as tf\n",
    "import numpy as np\n",
    "import sys\n",
    "from PIL import Image\n",
    "sys.path.append(\"models/models/research/\")\n",
    "sys.path.append(\"models/models/research/slim/\")\n",
    "from nets import resnet_v2\n",
    "from slim.preprocessing import inception_preprocessing \n",
    "from datasets import imagenet\n",
    "from tensorflow.contrib import slim"
   ]
  },
  {
   "cell_type": "code",
   "execution_count": 2,
   "metadata": {},
   "outputs": [
    {
     "name": "stdout",
     "output_type": "stream",
     "text": [
      "1.11.0\n"
     ]
    }
   ],
   "source": [
    "print(tf.__version__)"
   ]
  },
  {
   "cell_type": "code",
   "execution_count": 3,
   "metadata": {},
   "outputs": [
    {
     "name": "stdout",
     "output_type": "stream",
     "text": [
      "WARNING:tensorflow:From models/models/research/slim/nets/resnet_v2.py:213: calling reduce_mean (from tensorflow.python.ops.math_ops) with keep_dims is deprecated and will be removed in a future version.\n",
      "Instructions for updating:\n",
      "keep_dims is deprecated, use keepdims instead\n",
      "INFO:tensorflow:Restoring parameters from models/resnet_v2_50/resnet_v2_50.ckpt\n"
     ]
    }
   ],
   "source": [
    "#预处理完后\n",
    "x=tf.placeholder(tf.float32, shape=[1,224,224,3])\n",
    "\n",
    "#adv为对抗样本 可以被训练和修改的量\n",
    "#adv = tf.get_variable(name=\"adv\", shape=[1,224,224,3], dtype=tf.float32, initializer=tf.zeros_initializer)\n",
    "\n",
    "with slim.arg_scope(resnet_v2.resnet_arg_scope()):\n",
    "    logits, _ = resnet_v2.resnet_v2_50(x, num_classes=1001, is_training=False)\n",
    "probabilities = tf.nn.softmax(logits)\n",
    "\n",
    "saver=tf.train.Saver()\n",
    "\n",
    "sess=tf.Session()\n",
    "\n",
    "saver.restore(sess,'models/resnet_v2_50/resnet_v2_50.ckpt')\n"
   ]
  },
  {
   "cell_type": "code",
   "execution_count": 4,
   "metadata": {},
   "outputs": [],
   "source": [
    "path = \"../picture/pig.jpg\"\n",
    "img=Image.open(path)\n",
    "\n",
    "img=img.resize((224,224))\n",
    "img=np.array(img).copy().astype(np.float32)\n",
    "\n",
    "#tf中imagenet数据标准化就是归一化\n",
    "img /= 255.0\n",
    "img=np.expand_dims(img, 0)\n"
   ]
  },
  {
   "cell_type": "code",
   "execution_count": 5,
   "metadata": {},
   "outputs": [
    {
     "name": "stdout",
     "output_type": "stream",
     "text": [
      "hog, pig, grunter, squealer, Sus scrofa (score = 0.98853)\n",
      "piggy bank, penny bank (score = 0.01128)\n",
      "wild boar, boar, Sus scrofa (score = 0.00015)\n",
      "French bulldog (score = 0.00001)\n",
      "Chihuahua (score = 0.00000)\n"
     ]
    }
   ],
   "source": [
    "predictions = sess.run([probabilities],{x:img})\n",
    "predictions=np.squeeze(predictions)\n",
    "#argsort是从小到大排序 所以要取排名倒数的\n",
    "top_k = predictions.argsort()[-5:][::-1]\n",
    "#imagenet关系映射表\n",
    "names = imagenet.create_readable_names_for_imagenet_labels()\n",
    "\n",
    "for node_id in top_k:\n",
    "      human_string = names[node_id]\n",
    "      score = predictions[node_id]\n",
    "      print('%s (score = %.5f)' % (human_string, score))"
   ]
  },
  {
   "cell_type": "code",
   "execution_count": null,
   "metadata": {},
   "outputs": [],
   "source": []
  }
 ],
 "metadata": {
  "kernelspec": {
   "display_name": "Python 3",
   "language": "python",
   "name": "python3"
  },
  "language_info": {
   "codemirror_mode": {
    "name": "ipython",
    "version": 3
   },
   "file_extension": ".py",
   "mimetype": "text/x-python",
   "name": "python",
   "nbconvert_exporter": "python",
   "pygments_lexer": "ipython3",
   "version": "3.6.2"
  }
 },
 "nbformat": 4,
 "nbformat_minor": 2
}
