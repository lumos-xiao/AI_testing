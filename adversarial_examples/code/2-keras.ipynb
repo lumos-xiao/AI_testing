{
 "cells": [
  {
   "cell_type": "code",
   "execution_count": 3,
   "metadata": {},
   "outputs": [
    {
     "name": "stdout",
     "output_type": "stream",
     "text": [
      "(60000, 'train samples')\n",
      "(10000, 'test samples')\n",
      "_________________________________________________________________\n",
      "Layer (type)                 Output Shape              Param #   \n",
      "=================================================================\n",
      "dense_4 (Dense)              (None, 512)               401920    \n",
      "_________________________________________________________________\n",
      "dropout_3 (Dropout)          (None, 512)               0         \n",
      "_________________________________________________________________\n",
      "dense_5 (Dense)              (None, 512)               262656    \n",
      "_________________________________________________________________\n",
      "dropout_4 (Dropout)          (None, 512)               0         \n",
      "_________________________________________________________________\n",
      "dense_6 (Dense)              (None, 10)                5130      \n",
      "=================================================================\n",
      "Total params: 669,706\n",
      "Trainable params: 669,706\n",
      "Non-trainable params: 0\n",
      "_________________________________________________________________\n",
      "Train on 60000 samples, validate on 10000 samples\n",
      "Epoch 1/20\n",
      "60000/60000 [==============================] - 10s 166us/step - loss: 0.2478 - acc: 0.9232 - val_loss: 0.1022 - val_acc: 0.9695\n",
      "Epoch 2/20\n",
      "60000/60000 [==============================] - 10s 160us/step - loss: 0.1033 - acc: 0.9686 - val_loss: 0.0862 - val_acc: 0.9744\n",
      "Epoch 3/20\n",
      "60000/60000 [==============================] - 10s 163us/step - loss: 0.0740 - acc: 0.9774 - val_loss: 0.0706 - val_acc: 0.9799\n",
      "Epoch 4/20\n",
      "60000/60000 [==============================] - 10s 161us/step - loss: 0.0602 - acc: 0.9820 - val_loss: 0.0716 - val_acc: 0.9803\n",
      "Epoch 5/20\n",
      "60000/60000 [==============================] - 10s 161us/step - loss: 0.0516 - acc: 0.9841 - val_loss: 0.0772 - val_acc: 0.9808\n",
      "Epoch 6/20\n",
      "60000/60000 [==============================] - 10s 166us/step - loss: 0.0425 - acc: 0.9872 - val_loss: 0.0888 - val_acc: 0.9795\n",
      "Epoch 7/20\n",
      "60000/60000 [==============================] - 10s 168us/step - loss: 0.0372 - acc: 0.9887 - val_loss: 0.0756 - val_acc: 0.9831\n",
      "Epoch 8/20\n",
      "60000/60000 [==============================] - 10s 161us/step - loss: 0.0336 - acc: 0.9899 - val_loss: 0.0908 - val_acc: 0.9813\n",
      "Epoch 9/20\n",
      "60000/60000 [==============================] - 10s 166us/step - loss: 0.0324 - acc: 0.9904 - val_loss: 0.0829 - val_acc: 0.9828\n",
      "Epoch 10/20\n",
      "60000/60000 [==============================] - 9s 154us/step - loss: 0.0290 - acc: 0.9918 - val_loss: 0.0795 - val_acc: 0.9827\n",
      "Epoch 11/20\n",
      "60000/60000 [==============================] - 9s 155us/step - loss: 0.0254 - acc: 0.9927 - val_loss: 0.0879 - val_acc: 0.9832\n",
      "Epoch 12/20\n",
      "60000/60000 [==============================] - 10s 167us/step - loss: 0.0266 - acc: 0.9924 - val_loss: 0.0901 - val_acc: 0.9831\n",
      "Epoch 13/20\n",
      "60000/60000 [==============================] - 10s 163us/step - loss: 0.0220 - acc: 0.9935 - val_loss: 0.0973 - val_acc: 0.9833\n",
      "Epoch 14/20\n",
      "60000/60000 [==============================] - 10s 159us/step - loss: 0.0230 - acc: 0.9934 - val_loss: 0.0977 - val_acc: 0.9831\n",
      "Epoch 15/20\n",
      "60000/60000 [==============================] - 10s 159us/step - loss: 0.0204 - acc: 0.9941 - val_loss: 0.1018 - val_acc: 0.9817\n",
      "Epoch 16/20\n",
      "60000/60000 [==============================] - 10s 161us/step - loss: 0.0205 - acc: 0.9942 - val_loss: 0.1124 - val_acc: 0.9830\n",
      "Epoch 17/20\n",
      "60000/60000 [==============================] - 10s 163us/step - loss: 0.0172 - acc: 0.9952 - val_loss: 0.1028 - val_acc: 0.9829\n",
      "Epoch 18/20\n",
      "60000/60000 [==============================] - 10s 161us/step - loss: 0.0196 - acc: 0.9950 - val_loss: 0.0973 - val_acc: 0.9841\n",
      "Epoch 19/20\n",
      "60000/60000 [==============================] - 11s 181us/step - loss: 0.0188 - acc: 0.9952 - val_loss: 0.1126 - val_acc: 0.9819\n",
      "Epoch 20/20\n",
      "60000/60000 [==============================] - 10s 165us/step - loss: 0.0186 - acc: 0.9950 - val_loss: 0.1122 - val_acc: 0.9844\n",
      "('Test loss:', 0.11221564155901237)\n",
      "('Test accuracy:', 0.9844)\n"
     ]
    }
   ],
   "source": [
    "import keras\n",
    "from keras.datasets import mnist\n",
    "from keras.models import Sequential\n",
    "from keras.layers import Dense, Dropout\n",
    "from keras.optimizers import RMSprop\n",
    "\n",
    "batch_size = 128\n",
    "num_classes = 10\n",
    "epochs = 20\n",
    "\n",
    "(x_train, y_train), (x_test, y_test) = mnist.load_data()\n",
    "\n",
    "x_train = x_train.reshape(60000, 784)\n",
    "x_test = x_test.reshape(10000, 784)\n",
    "x_train = x_train.astype('float32')\n",
    "x_test = x_test.astype('float32')\n",
    "x_train /= 255\n",
    "x_test /= 255\n",
    "print(x_train.shape[0], 'train samples')\n",
    "print(x_test.shape[0], 'test samples')\n",
    "\n",
    "y_train = keras.utils.to_categorical(y_train, num_classes)\n",
    "y_test = keras.utils.to_categorical(y_test, num_classes)\n",
    "\n",
    "model = Sequential()\n",
    "model.add(Dense(512, activation='relu', input_shape=(784,)))\n",
    "model.add(Dropout(0.2))\n",
    "model.add(Dense(512, activation='relu'))\n",
    "model.add(Dropout(0.2))\n",
    "model.add(Dense(num_classes, activation='softmax'))\n",
    "\n",
    "model.summary()\n",
    "\n",
    "model.compile(loss='categorical_crossentropy',\n",
    "              optimizer=RMSprop(),\n",
    "              metrics=['accuracy'])\n",
    "\n",
    "history = model.fit(x_train, y_train,\n",
    "                    batch_size=batch_size,\n",
    "                    epochs=epochs,\n",
    "                    verbose=1,\n",
    "                    validation_data=(x_test, y_test))\n",
    "score = model.evaluate(x_test, y_test, verbose=0)\n",
    "print('Test loss:', score[0])\n",
    "print('Test accuracy:', score[1])"
   ]
  },
  {
   "cell_type": "code",
   "execution_count": 5,
   "metadata": {
    "collapsed": true
   },
   "outputs": [],
   "source": [
    "model.save('models/keras-model.h5')"
   ]
  },
  {
   "cell_type": "code",
   "execution_count": null,
   "metadata": {
    "collapsed": true
   },
   "outputs": [],
   "source": []
  }
 ],
 "metadata": {
  "kernelspec": {
   "display_name": "Python 3",
   "language": "python",
   "name": "python3"
  },
  "language_info": {
   "codemirror_mode": {
    "name": "ipython",
    "version": 3
   },
   "file_extension": ".py",
   "mimetype": "text/x-python",
   "name": "python",
   "nbconvert_exporter": "python",
   "pygments_lexer": "ipython3",
   "version": "3.6.2"
  }
 },
 "nbformat": 4,
 "nbformat_minor": 2
}
