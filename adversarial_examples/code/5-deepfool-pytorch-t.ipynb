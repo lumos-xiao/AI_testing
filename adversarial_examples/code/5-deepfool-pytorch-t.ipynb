{
 "cells": [
  {
   "cell_type": "code",
   "execution_count": 1,
   "metadata": {},
   "outputs": [],
   "source": [
    "import torch\n",
    "import torchvision\n",
    "from torchvision import datasets, transforms\n",
    "from torch.autograd import Variable\n",
    "from torch.autograd.gradcheck import zero_gradients\n",
    "import torch.utils.data.dataloader as Data\n",
    "import torch.nn as nn\n",
    "from torchvision import models\n",
    "import numpy as np\n",
    "import cv2"
   ]
  },
  {
   "cell_type": "code",
   "execution_count": 2,
   "metadata": {},
   "outputs": [],
   "source": [
    "#对比展现原始图片和对抗样本图片\n",
    "def show_images_diff(original_img,original_label,adversarial_img,adversarial_label):\n",
    "    import matplotlib.pyplot as plt\n",
    "    plt.figure()\n",
    "\n",
    "    #归一化\n",
    "    if original_img.any() > 1.0:\n",
    "        original_img=original_img/255.0\n",
    "    if adversarial_img.any() > 1.0:\n",
    "        adversarial_img=adversarial_img/255.0\n",
    "\n",
    "    plt.subplot(131)\n",
    "    plt.title('Original')\n",
    "    plt.imshow(original_img)\n",
    "    plt.axis('off')\n",
    "\n",
    "    plt.subplot(132)\n",
    "    plt.title('Adversarial')\n",
    "    plt.imshow(adversarial_img)\n",
    "    plt.axis('off')\n",
    "\n",
    "    plt.subplot(133)\n",
    "    plt.title('Adversarial-Original')\n",
    "    difference = adversarial_img - original_img\n",
    "    #(-1,1)  -> (0,1)\n",
    "    difference=difference / abs(difference).max()/2.0+0.5\n",
    "    plt.imshow(difference,cmap=plt.cm.gray)\n",
    "    plt.axis('off')\n",
    "    plt.tight_layout()\n",
    "    plt.show()"
   ]
  },
  {
   "cell_type": "code",
   "execution_count": 3,
   "metadata": {},
   "outputs": [
    {
     "name": "stdout",
     "output_type": "stream",
     "text": [
      "torch.Size([1, 3, 224, 224])\n",
      "orig_label=88\n"
     ]
    }
   ],
   "source": [
    "#获取计算设备 默认是CPU\n",
    "device = torch.device(\"cuda\" if torch.cuda.is_available() else \"cpu\")\n",
    "\n",
    "#图像加载以及预处理\n",
    "image_path=\"../picture/test_im1.jpg\"\n",
    "orig = cv2.imread(image_path)[..., ::-1]\n",
    "orig = cv2.resize(orig, (224, 224))\n",
    "img = orig.copy().astype(np.float32)\n",
    "\n",
    "mean = [0.485, 0.456, 0.406]\n",
    "std = [0.229, 0.224, 0.225]\n",
    "img /= 255.0\n",
    "img = (img - mean) / std\n",
    "img = img.transpose(2, 0, 1)\n",
    "\n",
    "img=np.expand_dims(img, axis=0)\n",
    "\n",
    "img = Variable(torch.from_numpy(img).to(device).float())\n",
    "print(img.shape)\n",
    "\n",
    "#使用预测模式 主要影响droupout和BN层的行为\n",
    "model = models.alexnet(pretrained=True).to(device).eval()\n",
    "\n",
    "orig_label=np.argmax(model(img).data.cpu().numpy())\n",
    "print(\"orig_label={}\".format(orig_label))\n"
   ]
  },
  {
   "cell_type": "code",
   "execution_count": 4,
   "metadata": {},
   "outputs": [
    {
     "name": "stdout",
     "output_type": "stream",
     "text": [
      "epoch=0 label=88 loss=23.000442504882812\n",
      "epoch=1 label=88 loss=19.914445877075195\n",
      "epoch=2 label=88 loss=16.73935317993164\n",
      "epoch=3 label=88 loss=14.715742111206055\n",
      "epoch=4 label=88 loss=12.55257797241211\n",
      "epoch=5 label=88 loss=10.390061378479004\n",
      "epoch=6 label=88 loss=8.43277359008789\n",
      "epoch=7 label=88 loss=6.093044281005859\n",
      "epoch=8 label=288 loss=0.3812999725341797\n"
     ]
    }
   ],
   "source": [
    "#图像数据梯度可以获取\n",
    "img.requires_grad = True\n",
    "\n",
    "#设置为不保存梯度值 自然也无法修改\n",
    "for param in model.parameters():\n",
    "    param.requires_grad = False\n",
    "\n",
    "epochs=100\n",
    "overshoot=0.02\n",
    "\n",
    "#攻击目标\n",
    "target_label=288\n",
    "target=Variable(torch.Tensor([float(target_label)]).to(device).long())\n",
    "\n",
    "input_shape = img.cpu().detach().numpy().shape\n",
    "w = np.zeros(input_shape)\n",
    "r_tot = np.zeros(input_shape)\n",
    "\n",
    "loss_func = torch.nn.CrossEntropyLoss()\n",
    "\n",
    "for epoch in range(epochs):\n",
    "    \n",
    "    # forward \n",
    "    output = model(img)\n",
    "    \n",
    "    label=np.argmax(output.data.cpu().numpy())\n",
    "    loss = loss_func(output, target)\n",
    "    print(\"epoch={} label={} loss={}\".format(epoch,label,loss))\n",
    "    \n",
    "    #如果定向攻击成功\n",
    "    if label == target_label:\n",
    "        break\n",
    "   \n",
    "    #梯度清零\n",
    "    zero_gradients(img)\n",
    "\n",
    "    output[0, target_label].backward(retain_graph=True)\n",
    "    w = img.grad.data.cpu().numpy().copy()\n",
    "\n",
    "    f = output[0, target_label].data.cpu().numpy()\n",
    "\n",
    "    pert = abs(f)/np.linalg.norm(w.flatten())\n",
    "\n",
    "    # 计算 r_i 和 r_tot\n",
    "    r_i =  (pert+1e-8) * w / np.linalg.norm(w)\n",
    "        \n",
    "    r_tot = np.float32(r_tot + r_i)\n",
    "    \n",
    "    img.data=img.data + (1+overshoot)*torch.from_numpy(r_tot).to(device)\n"
   ]
  },
  {
   "cell_type": "code",
   "execution_count": 5,
   "metadata": {},
   "outputs": [
    {
     "name": "stdout",
     "output_type": "stream",
     "text": [
      "(3, 224, 224)\n"
     ]
    },
    {
     "data": {
      "text/plain": [
       "<Figure size 640x480 with 3 Axes>"
      ]
     },
     "metadata": {},
     "output_type": "display_data"
    }
   ],
   "source": [
    "adv=img.data.cpu().numpy()[0]\n",
    "print(adv.shape)\n",
    "adv = adv.transpose(1, 2, 0)\n",
    "adv = (adv * std) + mean\n",
    "adv = adv * 255.0\n",
    "adv = np.clip(adv, 0, 255).astype(np.uint8)\n",
    "\n",
    "show_images_diff(orig,orig_label,adv,target_label)"
   ]
  },
  {
   "cell_type": "code",
   "execution_count": null,
   "metadata": {},
   "outputs": [],
   "source": []
  }
 ],
 "metadata": {
  "kernelspec": {
   "display_name": "Python 3",
   "language": "python",
   "name": "python3"
  },
  "language_info": {
   "codemirror_mode": {
    "name": "ipython",
    "version": 3
   },
   "file_extension": ".py",
   "mimetype": "text/x-python",
   "name": "python",
   "nbconvert_exporter": "python",
   "pygments_lexer": "ipython3",
   "version": "3.6.7"
  }
 },
 "nbformat": 4,
 "nbformat_minor": 2
}
